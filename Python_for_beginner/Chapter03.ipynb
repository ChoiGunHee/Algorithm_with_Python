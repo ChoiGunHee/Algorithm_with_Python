{
 "cells": [
  {
   "cell_type": "code",
   "execution_count": 3,
   "id": "520ef9e1",
   "metadata": {},
   "outputs": [
    {
     "name": "stdout",
     "output_type": "stream",
     "text": [
      "100 + 100\n",
      "100\n",
      "100 / 200 = 0.500000\n"
     ]
    }
   ],
   "source": [
    "#Chapter03\n",
    "print(\"100 + 100\")\n",
    "print(\"%d\" % 100)\n",
    "print(\"%d / %d = %f\" % (100, 200, 0.5))"
   ]
  },
  {
   "cell_type": "code",
   "execution_count": 7,
   "id": "c2b41e97",
   "metadata": {},
   "outputs": [
    {
     "name": "stdout",
     "output_type": "stream",
     "text": [
      "123\n",
      "  123\n",
      "00123\n",
      "123.450000\n",
      "  123.5\n",
      "123.450\n",
      "Python\n",
      "    Python\n",
      "123   123 00123\n",
      "123   123 00123\n"
     ]
    }
   ],
   "source": [
    "#Code03-01.py\n",
    "\n",
    "print(\"%d\" % 123)\n",
    "print(\"%5d\" % 123)\n",
    "print(\"%05d\" % 123)\n",
    "\n",
    "print(\"%f\" % 123.45)\n",
    "print(\"%7.1f\" % 123.45)\n",
    "print(\"%7.3f\" % 123.45)\n",
    "\n",
    "print(\"%s\" % \"Python\")\n",
    "print(\"%10s\" % \"Python\")\n",
    "\n",
    "print(\"%d %5d %05d\" % (123, 123, 123))\n",
    "print(\"{0:d} {1:5d} {2:05d}\".format(123, 123, 123))"
   ]
  },
  {
   "cell_type": "code",
   "execution_count": 8,
   "id": "708fea8f",
   "metadata": {},
   "outputs": [
    {
     "name": "stdout",
     "output_type": "stream",
     "text": [
      "    *    \n",
      "   ***   \n",
      "  *****  \n",
      " ******* \n",
      "*********\n",
      " ******* \n",
      "  *****  \n",
      "   ***   \n",
      "    *    \n"
     ]
    }
   ],
   "source": [
    "#Code03-03.py\n",
    "\n",
    "print(\"    *    \")\n",
    "print(\"   ***   \")\n",
    "print(\"  *****  \")\n",
    "print(\" ******* \")\n",
    "print(\"*********\")\n",
    "print(\" ******* \")\n",
    "print(\"  *****  \")\n",
    "print(\"   ***   \")\n",
    "print(\"    *    \")\n"
   ]
  },
  {
   "cell_type": "code",
   "execution_count": 11,
   "id": "e6d55b93",
   "metadata": {},
   "outputs": [
    {
     "name": "stdout",
     "output_type": "stream",
     "text": [
      "입력 진수 결정 (16/10/8/2) : 16\n",
      "값 입력 : ff\n",
      "16진수 ==>  0xff\n",
      "10진수 ==>  255\n",
      "8진수 ==>  0o377\n",
      "2진수 ==>  0b11111111\n"
     ]
    }
   ],
   "source": [
    "#Code03-04.py\n",
    "\n",
    "sel = int(input(\"입력 진수 결정 (16/10/8/2) : \"))\n",
    "num = input(\"값 입력 : \")\n",
    "\n",
    "if sel == 16 :\n",
    "    num10 = int(num, 16)\n",
    "if sel == 10 :\n",
    "    num10 = int(num, 10)\n",
    "if sel == 8 :\n",
    "    num10 = int(num, 8)\n",
    "if sel == 2 :\n",
    "    num10 = int(num, 2)\n",
    "\n",
    "print(\"16진수 ==> \", hex(num10))\n",
    "print(\"10진수 ==> \", num10)\n",
    "print(\"8진수 ==> \", oct(num10))\n",
    "print(\"2진수 ==> \", bin(num10))"
   ]
  },
  {
   "cell_type": "code",
   "execution_count": 13,
   "id": "241f8ba2",
   "metadata": {},
   "outputs": [
    {
     "name": "stdout",
     "output_type": "stream",
     "text": [
      "int형 기본 크기 -->  24\n",
      "float형 기본 크기 -->  24\n",
      "bool형 기본 크기 -->  28\n",
      "str형 기본 크기 -->  49\n",
      "list형 기본 크기 -->  56\n",
      "tuple형 기본 크기 -->  40\n",
      "dictionary형 기본 크기 -->  64\n",
      "set형 기본 크기 -->  216\n"
     ]
    }
   ],
   "source": [
    "#응용예제 01\n",
    "\n",
    "import sys\n",
    "\n",
    "## 변수 선언 부분 ##\n",
    "intVar, floatVar, boolVar, strVar, listVar, tupleVar, dictVar, setVar = [None] * 8\n",
    "\n",
    "if __name__ == \"__main__\" :\n",
    "    intVar = 0;\n",
    "    floatVar = 0.0\n",
    "    boolVar = True\n",
    "    strVar = ''\n",
    "    listVar = []\n",
    "    tupleVar = ()\n",
    "    dictVar = {}\n",
    "    setVar = set()\n",
    "    \n",
    "    print('int형 기본 크기 --> ', sys.getsizeof(intVar))\n",
    "    print('float형 기본 크기 --> ', sys.getsizeof(floatVar))\n",
    "    print('bool형 기본 크기 --> ', sys.getsizeof(boolVar))\n",
    "    print('str형 기본 크기 --> ', sys.getsizeof(strVar))\n",
    "    print('list형 기본 크기 --> ', sys.getsizeof(listVar))\n",
    "    print('tuple형 기본 크기 --> ', sys.getsizeof(tupleVar))\n",
    "    print('dictionary형 기본 크기 --> ', sys.getsizeof(dictVar))\n",
    "    print('set형 기본 크기 --> ', sys.getsizeof(setVar))\n",
    "    "
   ]
  },
  {
   "cell_type": "code",
   "execution_count": 15,
   "id": "0b794c8b",
   "metadata": {},
   "outputs": [
    {
     "name": "stdout",
     "output_type": "stream",
     "text": [
      "문자열 입력 --> bgfra\n",
      "arfgb"
     ]
    }
   ],
   "source": [
    "#응용예제 02\n",
    "inStr = ''\n",
    "\n",
    "if __name__ == \"__main__\" :\n",
    "    inStr = input('문자열 입력 --> ')\n",
    "    \n",
    "    for i in range(len(inStr)-1, -1, -1) :\n",
    "        print('%c' % inStr[i], end='')"
   ]
  }
 ],
 "metadata": {
  "kernelspec": {
   "display_name": "Python 3 (ipykernel)",
   "language": "python",
   "name": "python3"
  },
  "language_info": {
   "codemirror_mode": {
    "name": "ipython",
    "version": 3
   },
   "file_extension": ".py",
   "mimetype": "text/x-python",
   "name": "python",
   "nbconvert_exporter": "python",
   "pygments_lexer": "ipython3",
   "version": "3.9.7"
  }
 },
 "nbformat": 4,
 "nbformat_minor": 5
}
