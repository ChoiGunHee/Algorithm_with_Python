{
 "cells": [
  {
   "cell_type": "code",
   "execution_count": 2,
   "id": "c5a6aeab",
   "metadata": {},
   "outputs": [
    {
     "name": "stdout",
     "output_type": "stream",
     "text": [
      "교환할 돈은 얼마? 7777\n",
      "\n",
      " 500원짜리 ==> 15개\n",
      " 100원짜리 ==> 2개\n",
      " 50원짜리 ==> 1개\n",
      " 10원짜리 ==> 2개\n",
      " 바꾸지 못한 잔돈 ==> 7개\n"
     ]
    }
   ],
   "source": [
    "#Charter04\n",
    "\n",
    "#Code04-01.py\n",
    "money = int(input(\"교환할 돈은 얼마? \"))\n",
    "\n",
    "c500 = money // 500\n",
    "money %= 500\n",
    "\n",
    "c100 = money // 100\n",
    "money %= 100\n",
    "\n",
    "c50 = money // 50\n",
    "money %= 50\n",
    "\n",
    "c10 = money //10\n",
    "money %= 10\n",
    "\n",
    "print(\"\\n 500원짜리 ==> %d개\" % c500)\n",
    "print(\" 100원짜리 ==> %d개\" % c100)\n",
    "print(\" 50원짜리 ==> %d개\" % c50)\n",
    "print(\" 10원짜리 ==> %d개\" % c10)\n",
    "print(\" 바꾸지 못한 잔돈 ==> %d개\" % money)"
   ]
  },
  {
   "cell_type": "code",
   "execution_count": 4,
   "id": "c9d8e4c4",
   "metadata": {},
   "outputs": [
    {
     "name": "stdout",
     "output_type": "stream",
     "text": [
      "연도를 입력하세요 : 2021\n",
      "2021년은 윤년이 아닙니다.\n"
     ]
    }
   ],
   "source": [
    "#응용 문제 : 윤년 계산하기\n",
    "year = 0\n",
    "\n",
    "if __name__ == \"__main__\" :\n",
    "    year = int(input(\"연도를 입력하세요 : \"))\n",
    "    \n",
    "    if((year%4 == 0) and (year%100 != 0)) or (year%400 == 0) :\n",
    "        print(\"%d년은 윤년이 입니다.\" % year)\n",
    "    else :\n",
    "        print(\"%d년은 윤년이 아닙니다.\" % year)"
   ]
  }
 ],
 "metadata": {
  "kernelspec": {
   "display_name": "Python 3 (ipykernel)",
   "language": "python",
   "name": "python3"
  },
  "language_info": {
   "codemirror_mode": {
    "name": "ipython",
    "version": 3
   },
   "file_extension": ".py",
   "mimetype": "text/x-python",
   "name": "python",
   "nbconvert_exporter": "python",
   "pygments_lexer": "ipython3",
   "version": "3.9.7"
  }
 },
 "nbformat": 4,
 "nbformat_minor": 5
}
