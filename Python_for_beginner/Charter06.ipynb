{
 "cells": [
  {
   "cell_type": "code",
   "execution_count": 2,
   "id": "dfb09074",
   "metadata": {},
   "outputs": [
    {
     "name": "stdout",
     "output_type": "stream",
     "text": [
      "안녕하세요 for 문 공부\n",
      "안녕하세요 for 문 공부\n",
      "안녕하세요 for 문 공부\n",
      "0: 안녕하세요 for문 공부 중. ^^\n",
      "1: 안녕하세요 for문 공부 중. ^^\n",
      "2: 안녕하세요 for문 공부 중. ^^\n"
     ]
    }
   ],
   "source": [
    "#Charter 06\n",
    "\n",
    "#Code 06-01.py\n",
    "\n",
    "for i in range(0, 3, 1) :\n",
    "    print(\"안녕하세요 for 문 공부\")\n",
    "    \n",
    "for i in range(0, 3, 1) :\n",
    "    print(\"%d: 안녕하세요 for문 공부 중. ^^\" % i)"
   ]
  },
  {
   "cell_type": "code",
   "execution_count": 5,
   "id": "7287f154",
   "metadata": {},
   "outputs": [
    {
     "name": "stdout",
     "output_type": "stream",
     "text": [
      "1에서 10까지의 합 : 55\n"
     ]
    }
   ],
   "source": [
    "#Code 06-02.py\n",
    "\n",
    "i,hap = 0,0\n",
    "for i in range(1, 11, 1) :\n",
    "    hap = hap + i\n",
    "\n",
    "\n",
    "print(\"1에서 10까지의 합 : %d\" % hap)"
   ]
  },
  {
   "cell_type": "code",
   "execution_count": 7,
   "id": "b1e517d2",
   "metadata": {},
   "outputs": [
    {
     "name": "stdout",
     "output_type": "stream",
     "text": [
      "값을 입력하세요 : 100\n",
      "1부터 100까지의 합 : 5050\n"
     ]
    }
   ],
   "source": [
    "#Code 06-04.py\n",
    "\n",
    "i, hap = 0, 0\n",
    "num = 0\n",
    "\n",
    "num = int(input(\"값을 입력하세요 : \"))\n",
    "\n",
    "for i in range(1, num+1, 1) :\n",
    "    hap = hap + i\n",
    "    \n",
    "print(\"1부터 %d까지의 합 : %d\" % (num, hap))"
   ]
  },
  {
   "cell_type": "code",
   "execution_count": 8,
   "id": "5866a7cb",
   "metadata": {},
   "outputs": [
    {
     "name": "stdout",
     "output_type": "stream",
     "text": [
      "단을 입력하세요 : 2\n",
      "2 * 1 =  2\n",
      "2 * 2 =  4\n",
      "2 * 3 =  6\n",
      "2 * 4 =  8\n",
      "2 * 5 = 10\n",
      "2 * 6 = 12\n",
      "2 * 7 = 14\n",
      "2 * 8 = 16\n",
      "2 * 9 = 18\n"
     ]
    }
   ],
   "source": [
    "#Code 06-06.py\n",
    "\n",
    "i, dan = 0, 0\n",
    "\n",
    "dan = int(input(\"단을 입력하세요 : \"))\n",
    "for i in range(1, 10, 1) :\n",
    "    print(\"%d * %d = %2d\" % (dan, i, dan*i))"
   ]
  },
  {
   "cell_type": "code",
   "execution_count": 9,
   "id": "084fe895",
   "metadata": {},
   "outputs": [
    {
     "name": "stdout",
     "output_type": "stream",
     "text": [
      "2 * 1 =  2\n",
      "2 * 2 =  4\n",
      "2 * 3 =  6\n",
      "2 * 4 =  8\n",
      "2 * 5 = 10\n",
      "2 * 6 = 12\n",
      "2 * 7 = 14\n",
      "2 * 8 = 16\n",
      "2 * 9 = 18\n",
      "\n",
      "3 * 1 =  3\n",
      "3 * 2 =  6\n",
      "3 * 3 =  9\n",
      "3 * 4 = 12\n",
      "3 * 5 = 15\n",
      "3 * 6 = 18\n",
      "3 * 7 = 21\n",
      "3 * 8 = 24\n",
      "3 * 9 = 27\n",
      "\n",
      "4 * 1 =  4\n",
      "4 * 2 =  8\n",
      "4 * 3 = 12\n",
      "4 * 4 = 16\n",
      "4 * 5 = 20\n",
      "4 * 6 = 24\n",
      "4 * 7 = 28\n",
      "4 * 8 = 32\n",
      "4 * 9 = 36\n",
      "\n",
      "5 * 1 =  5\n",
      "5 * 2 = 10\n",
      "5 * 3 = 15\n",
      "5 * 4 = 20\n",
      "5 * 5 = 25\n",
      "5 * 6 = 30\n",
      "5 * 7 = 35\n",
      "5 * 8 = 40\n",
      "5 * 9 = 45\n",
      "\n",
      "6 * 1 =  6\n",
      "6 * 2 = 12\n",
      "6 * 3 = 18\n",
      "6 * 4 = 24\n",
      "6 * 5 = 30\n",
      "6 * 6 = 36\n",
      "6 * 7 = 42\n",
      "6 * 8 = 48\n",
      "6 * 9 = 54\n",
      "\n",
      "7 * 1 =  7\n",
      "7 * 2 = 14\n",
      "7 * 3 = 21\n",
      "7 * 4 = 28\n",
      "7 * 5 = 35\n",
      "7 * 6 = 42\n",
      "7 * 7 = 49\n",
      "7 * 8 = 56\n",
      "7 * 9 = 63\n",
      "\n",
      "8 * 1 =  8\n",
      "8 * 2 = 16\n",
      "8 * 3 = 24\n",
      "8 * 4 = 32\n",
      "8 * 5 = 40\n",
      "8 * 6 = 48\n",
      "8 * 7 = 56\n",
      "8 * 8 = 64\n",
      "8 * 9 = 72\n",
      "\n",
      "9 * 1 =  9\n",
      "9 * 2 = 18\n",
      "9 * 3 = 27\n",
      "9 * 4 = 36\n",
      "9 * 5 = 45\n",
      "9 * 6 = 54\n",
      "9 * 7 = 63\n",
      "9 * 8 = 72\n",
      "9 * 9 = 81\n",
      "\n"
     ]
    }
   ],
   "source": [
    "#Code 06-07.py\n",
    "\n",
    "#i, k = 0, 0\n",
    "\n",
    "for i in range(2, 10, 1) :\n",
    "    for k in range(1, 10, 1) :\n",
    "        print(\"%d * %d = %2d\" % (i, k, i*k))\n",
    "    print(\"\")"
   ]
  },
  {
   "cell_type": "code",
   "execution_count": 10,
   "id": "85530246",
   "metadata": {},
   "outputs": [
    {
     "name": "stdout",
     "output_type": "stream",
     "text": [
      "1에서 10까지의 합계 : 55\n"
     ]
    }
   ],
   "source": [
    "#Code 06-09.py\n",
    "\n",
    "i, hap = 0, 0;\n",
    "\n",
    "i = 1\n",
    "while i < 11 :\n",
    "    hap = hap + i\n",
    "    i = i + 1\n",
    "\n",
    "print(\"1에서 10까지의 합계 : %d\" % hap)"
   ]
  },
  {
   "cell_type": "code",
   "execution_count": 11,
   "id": "cd2cc72f",
   "metadata": {},
   "outputs": [
    {
     "name": "stdout",
     "output_type": "stream",
     "text": [
      "더할 첫번째 수를 입력 : 10\n",
      "더할 두번째 수를 입력 : 20\n",
      "10 + 20 = 30\n",
      "더할 첫번째 수를 입력 : 0\n",
      "0을 입력해 반복문을 탈출했습니다.\n"
     ]
    }
   ],
   "source": [
    "#Code 06-12.py\n",
    "\n",
    "hap = 0\n",
    "a, b = 0, 0\n",
    "\n",
    "while True :\n",
    "    a = int(input(\"더할 첫번째 수를 입력 : \"))\n",
    "    if a == 0 :\n",
    "        break\n",
    "    b = int(input(\"더할 두번째 수를 입력 : \"))\n",
    "    hap = a+b\n",
    "    print(\"%d + %d = %d\" % (a, b, a+b))\n",
    "\n",
    "print(\"0을 입력해 반복문을 탈출했습니다.\")"
   ]
  },
  {
   "cell_type": "code",
   "execution_count": 12,
   "id": "1fd0bd4d",
   "metadata": {},
   "outputs": [
    {
     "name": "stdout",
     "output_type": "stream",
     "text": [
      "1~100의 합계 (3의 배수 제외) :  3367\n"
     ]
    }
   ],
   "source": [
    "#Code 06-14.py\n",
    "\n",
    "hap, i = 0, 0\n",
    "\n",
    "for i in range(1, 101) :\n",
    "    if(i%3) == 0 :\n",
    "        continue\n",
    "    \n",
    "    hap += i\n",
    "\n",
    "print(\"1~100의 합계 (3의 배수 제외) :  %d\" % hap)"
   ]
  },
  {
   "cell_type": "code",
   "execution_count": 17,
   "id": "de7776d6",
   "metadata": {},
   "outputs": [
    {
     "name": "stdout",
     "output_type": "stream",
     "text": [
      "숫자를 여러 개 입력하세요 : 456\n",
      "\n",
      "♥♥♥♥\n",
      "♥♥♥♥♥\n",
      "♥♥♥♥♥♥\n"
     ]
    }
   ],
   "source": [
    "## 변수 선언 부분\n",
    "\n",
    "i, k, heartNum = 0, 0, 0\n",
    "numStr, ch, heartStr = \"\", \"\", \"\"\n",
    "\n",
    "## 메인 코드 부분 ##\n",
    "if __name__ == \"__main__\" :\n",
    "    numStr = input(\"숫자를 여러 개 입력하세요 : \")\n",
    "    print(\"\")\n",
    "    i = 0\n",
    "    ch = numStr[i]\n",
    "    \n",
    "    while True :\n",
    "        heartNum = int(ch)\n",
    "        \n",
    "        heartStr = \"\"\n",
    "        for k in range(0, heartNum) :\n",
    "            heartStr += \"\\u2665\"\n",
    "            k += 1\n",
    "        \n",
    "        print(heartStr)\n",
    "        \n",
    "        i += 1\n",
    "        if(i > len(numStr) - 1) :\n",
    "            break;\n",
    "        \n",
    "        ch = numStr[i]"
   ]
  }
 ],
 "metadata": {
  "kernelspec": {
   "display_name": "Python 3 (ipykernel)",
   "language": "python",
   "name": "python3"
  },
  "language_info": {
   "codemirror_mode": {
    "name": "ipython",
    "version": 3
   },
   "file_extension": ".py",
   "mimetype": "text/x-python",
   "name": "python",
   "nbconvert_exporter": "python",
   "pygments_lexer": "ipython3",
   "version": "3.9.7"
  }
 },
 "nbformat": 4,
 "nbformat_minor": 5
}
