{
 "cells": [
  {
   "cell_type": "code",
   "execution_count": 1,
   "id": "48f0f37c",
   "metadata": {},
   "outputs": [
    {
     "name": "stdout",
     "output_type": "stream",
     "text": [
      "파$이$썬$짱$!$"
     ]
    }
   ],
   "source": [
    "#Charter08\n",
    "\n",
    "#Code08-01.py\n",
    "\n",
    "ss = '파이썬짱!'\n",
    "\n",
    "sslen = len(ss)\n",
    "for i in range(0, sslen) :\n",
    "    print(ss[i] + '$', end='')"
   ]
  },
  {
   "cell_type": "code",
   "execution_count": 2,
   "id": "1d0fd194",
   "metadata": {},
   "outputs": [
    {
     "name": "stdout",
     "output_type": "stream",
     "text": [
      "문자열을 입력하세요 : chlrjsgml\n",
      "내용을 거꾸로 출력 --> lmgsjrlhc\n"
     ]
    }
   ],
   "source": [
    "#Code08-02.py\n",
    "\n",
    "inStr, outStr = \"\", \"\"\n",
    "count, i = 0, 0\n",
    "\n",
    "inStr = input(\"문자열을 입력하세요 : \")\n",
    "count = len(inStr)\n",
    "\n",
    "for i in range(0, count) :\n",
    "    outStr += inStr[count - (i+1)]\n",
    "\n",
    "print(\"내용을 거꾸로 출력 --> %s\" % outStr)"
   ]
  },
  {
   "cell_type": "code",
   "execution_count": 5,
   "id": "250bc8d2",
   "metadata": {},
   "outputs": [
    {
     "name": "stdout",
     "output_type": "stream",
     "text": [
      "[2019, 12, 31]\n",
      " 3 4\n",
      "7\n"
     ]
    }
   ],
   "source": [
    "#map()\n",
    "\n",
    "before = ['2019', '12', '31']\n",
    "after = list(map(int, before))\n",
    "print(after)\n",
    "\n",
    "a, b = map(int, input().split())\n",
    "print(a+b)"
   ]
  },
  {
   "cell_type": "code",
   "execution_count": 7,
   "id": "34bdb193",
   "metadata": {},
   "outputs": [
    {
     "name": "stdout",
     "output_type": "stream",
     "text": [
      "문자열을 입력하세요 : Python\n",
      "대소문자 변환 결과 --> pYTHON\n"
     ]
    }
   ],
   "source": [
    "#대소문자 상호 변환하기\n",
    "\n",
    "inStr, outStr = \"\", \"\"\n",
    "ch = \"\"\n",
    "count , i = 0, 0\n",
    "\n",
    "if __name__ == \"__main__\" :\n",
    "    inStr = input(\"문자열을 입력하세요 : \")\n",
    "    count = len(inStr)\n",
    "    \n",
    "    for i in range(0, count) :\n",
    "        ch = inStr[i]\n",
    "        if(ord(ch) >= ord(\"A\") and ord(ch) <= ord(\"Z\")) :\n",
    "            newCh = ch.lower()\n",
    "        elif (ord(ch) >= ord(\"a\") and ord(ch) <= ord(\"z\")) :\n",
    "            newCh = ch.upper()\n",
    "        else :\n",
    "            newCh = ch\n",
    "        \n",
    "        outStr += newCh\n",
    "    \n",
    "    print(\"대소문자 변환 결과 --> %s\" % outStr)"
   ]
  }
 ],
 "metadata": {
  "kernelspec": {
   "display_name": "Python 3 (ipykernel)",
   "language": "python",
   "name": "python3"
  },
  "language_info": {
   "codemirror_mode": {
    "name": "ipython",
    "version": 3
   },
   "file_extension": ".py",
   "mimetype": "text/x-python",
   "name": "python",
   "nbconvert_exporter": "python",
   "pygments_lexer": "ipython3",
   "version": "3.9.7"
  }
 },
 "nbformat": 4,
 "nbformat_minor": 5
}
