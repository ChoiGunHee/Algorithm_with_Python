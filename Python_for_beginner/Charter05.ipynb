{
 "cells": [
  {
   "cell_type": "code",
   "execution_count": 1,
   "id": "35184d23",
   "metadata": {},
   "outputs": [
    {
     "name": "stdout",
     "output_type": "stream",
     "text": [
      "100보다 크군요.\n",
      "거짓이면 이 문장도 보이겠죠?\n",
      "프로그램 끝\n"
     ]
    }
   ],
   "source": [
    "#Charter05\n",
    "\n",
    "#Code05-04.py\n",
    "a=200\n",
    "if a < 100 :\n",
    "    print(\"100보다 작군요.\")\n",
    "    print(\"참이면 이 문장도 보이겟죠?\")\n",
    "else :\n",
    "    print(\"100보다 크군요.\")\n",
    "    print(\"거짓이면 이 문장도 보이겠죠?\")\n",
    "\n",
    "print(\"프로그램 끝\")"
   ]
  },
  {
   "cell_type": "code",
   "execution_count": 2,
   "id": "ca9e413f",
   "metadata": {},
   "outputs": [
    {
     "name": "stdout",
     "output_type": "stream",
     "text": [
      "정수를 입력하세요 : 125\n",
      "홀수를 입력했군요\n"
     ]
    }
   ],
   "source": [
    "#Code05-05.py\n",
    "a = int(input(\"정수를 입력하세요 : \"))\n",
    "\n",
    "if a%2 == 0 :\n",
    "    print(\"짝수를 입력했군요\")\n",
    "else :\n",
    "    print(\"홀수를 입력했군요\")"
   ]
  },
  {
   "cell_type": "code",
   "execution_count": 3,
   "id": "f8b60e6f",
   "metadata": {},
   "outputs": [
    {
     "name": "stdout",
     "output_type": "stream",
     "text": [
      "점수를 입력하세요 : 85\n",
      "B\n",
      "학점입니다. ^^\n"
     ]
    }
   ],
   "source": [
    "#Code05-08.py\n",
    "\n",
    "score = int(input(\"점수를 입력하세요 : \"))\n",
    "\n",
    "if score >= 90 :\n",
    "    print(\"A\")\n",
    "elif score >= 80 :\n",
    "    print(\"B\")\n",
    "elif score >= 70 :\n",
    "    print(\"C\")\n",
    "elif score >= 60 :\n",
    "    print(\"D\")\n",
    "else :\n",
    "    print(\"F\")\n",
    "\n",
    "print(\"학점입니다. ^^\")"
   ]
  },
  {
   "cell_type": "code",
   "execution_count": 29,
   "id": "2da59788",
   "metadata": {},
   "outputs": [
    {
     "name": "stdout",
     "output_type": "stream",
     "text": [
      "생선된 리스트 [5, 2, 9, 6, 3, 4, 0, 0, 4, 0]\n",
      "숫자 1는 리스트에 없네요.\n",
      "숫자 7는 리스트에 없네요.\n",
      "숫자 8는 리스트에 없네요.\n"
     ]
    }
   ],
   "source": [
    "#Code05-10.py\n",
    "\n",
    "import random\n",
    "\n",
    "numbers = []\n",
    "for num in range(0, 10) :\n",
    "    numbers.append(random.randrange(0, 10))\n",
    "\n",
    "print(\"생선된 리스트\", numbers)\n",
    "\n",
    "for num in range(0, 10) :\n",
    "    if num not in numbers :\n",
    "        print(\"숫자 %d는 리스트에 없네요.\" %num)"
   ]
  },
  {
   "cell_type": "code",
   "execution_count": 34,
   "id": "36a458e6",
   "metadata": {},
   "outputs": [
    {
     "name": "stdout",
     "output_type": "stream",
     "text": [
      "1. 입력한 수식 계산 2. 두 수 사이의 합계2\n",
      "*** 첫번째 숫자를 입력하세요 : 1\n",
      "*** 두번째 숫자를 입력하세요 : 10\n",
      "1+...+10는 55입니다. \n"
     ]
    }
   ],
   "source": [
    "#Code05-11.py\n",
    "\n",
    "##변수 서언 부분##\n",
    "select, answer, numStr, num1, num2 = 0, 0, \"\", 0, 0\n",
    "\n",
    "##메인 코드 부분##\n",
    "select = int(input(\"1. 입력한 수식 계산 2. 두 수 사이의 합계\"))\n",
    "\n",
    "if select == 1 :\n",
    "    numStr = input(\" *** 수식을 입력하세요 : \")\n",
    "    answer = eval(numStr)\n",
    "    print(\" %s 결과는 %5.1f입니다.\" %(numStr, answer))\n",
    "elif select == 2:\n",
    "    num1 = int(input( \"*** 첫번째 숫자를 입력하세요 : \"))\n",
    "    num2 = int(input( \"*** 두번째 숫자를 입력하세요 : \"))\n",
    "    for i in range(num1, num2 + 1) :\n",
    "        answer = answer + i\n",
    "    print(\"%d+...+%d는 %d입니다. \" %(num1, num2, answer))\n",
    "else :\n",
    "    print(\"1 또는 2만 입력해야합니다.\")"
   ]
  }
 ],
 "metadata": {
  "kernelspec": {
   "display_name": "Python 3 (ipykernel)",
   "language": "python",
   "name": "python3"
  },
  "language_info": {
   "codemirror_mode": {
    "name": "ipython",
    "version": 3
   },
   "file_extension": ".py",
   "mimetype": "text/x-python",
   "name": "python",
   "nbconvert_exporter": "python",
   "pygments_lexer": "ipython3",
   "version": "3.9.7"
  }
 },
 "nbformat": 4,
 "nbformat_minor": 5
}
