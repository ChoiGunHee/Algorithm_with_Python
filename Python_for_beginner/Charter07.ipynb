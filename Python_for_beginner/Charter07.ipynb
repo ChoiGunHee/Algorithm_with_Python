{
 "cells": [
  {
   "cell_type": "code",
   "execution_count": 1,
   "id": "e56e404f",
   "metadata": {},
   "outputs": [
    {
     "name": "stdout",
     "output_type": "stream",
     "text": [
      "1번째 숫자 : 10\n",
      "2번째 숫자 : 20\n",
      "3번째 숫자 : 30\n",
      "4번째 숫자 : 40\n",
      "합계 ==> 100\n"
     ]
    }
   ],
   "source": [
    "#Charter07\n",
    "\n",
    "#Code 07-03.py\n",
    "aa = []\n",
    "for i in range(0, 4) :\n",
    "    aa.append(0)\n",
    "hap = 0\n",
    "\n",
    "for i in range(0, 4) :\n",
    "    aa[i] = int(input(str(i+1) + \"번째 숫자 : \"))\n",
    "\n",
    "hap = aa[0] + aa[1] + aa[2] + aa[3]\n",
    "\n",
    "print(\"합계 ==> %d\" % hap)"
   ]
  },
  {
   "cell_type": "code",
   "execution_count": 4,
   "id": "abfc311b",
   "metadata": {},
   "outputs": [
    {
     "name": "stdout",
     "output_type": "stream",
     "text": [
      "현재 리스트 : [30, 10, 20]\n",
      "append(40) 후 리스트 : [30, 10, 20, 40]\n",
      "pop()으로 추출한 값 : 40\n",
      "pop() 후의 리스트 : [30, 10, 20]\n",
      "sort() 후의 리스트 : [10, 20, 30]\n",
      "reverse() 후의 리스트 : [30, 20, 10]\n",
      "20값의 위치 : %d 1\n",
      "insert(2, 222) 후의 리스트 : [30, 20, 222, 10]\n",
      "remove(222) 후의 리스트 : [30, 20, 10]\n",
      "extend([77, 88, 77]) 후의 리스트 : [30, 20, 10, 77, 88, 77]\n",
      "77값의 개수 : 2\n"
     ]
    }
   ],
   "source": [
    "#Code 07-05.py\n",
    "\n",
    "myList = [30, 10, 20]\n",
    "print(\"현재 리스트 : %s\" % myList)\n",
    "\n",
    "myList.append(40)\n",
    "print(\"append(40) 후 리스트 : %s\" % myList)\n",
    "\n",
    "print(\"pop()으로 추출한 값 : %s\" % myList.pop())\n",
    "print(\"pop() 후의 리스트 : %s\" % myList)\n",
    "\n",
    "myList.sort()\n",
    "print(\"sort() 후의 리스트 : %s\" % myList)\n",
    "\n",
    "myList.reverse()\n",
    "print(\"reverse() 후의 리스트 : %s\" % myList)\n",
    "\n",
    "print(\"20값의 위치 : %d\", myList.index(20))\n",
    "\n",
    "myList.insert(2, 222)\n",
    "print(\"insert(2, 222) 후의 리스트 : %s\" % myList)\n",
    "\n",
    "myList.remove(222)\n",
    "print(\"remove(222) 후의 리스트 : %s\" % myList)\n",
    "\n",
    "myList.extend([77, 88, 77])\n",
    "print(\"extend([77, 88, 77]) 후의 리스트 : %s\" % myList)\n",
    "\n",
    "print(\"77값의 개수 : %d\" % myList.count(77))"
   ]
  },
  {
   "cell_type": "code",
   "execution_count": 5,
   "id": "1e645508",
   "metadata": {},
   "outputs": [
    {
     "data": {
      "text/plain": [
       "(10, 20, 30, 40)"
      ]
     },
     "execution_count": 5,
     "metadata": {},
     "output_type": "execute_result"
    }
   ],
   "source": [
    "#Tuple\n",
    "\n",
    "myTuple = (10, 20, 30)\n",
    "myList = list(myTuple)\n",
    "myList.append(40)\n",
    "myTuple = tuple(myList)\n",
    "myTuple"
   ]
  },
  {
   "cell_type": "code",
   "execution_count": 6,
   "id": "b39f6113",
   "metadata": {},
   "outputs": [
    {
     "name": "stdout",
     "output_type": "stream",
     "text": [
      "이름 -> 트와이스\n",
      "구성원 -> 9\n",
      "데뷔 -> 서바이벌 식스틴\n",
      "대표곡 -> SIGNAL\n"
     ]
    }
   ],
   "source": [
    "#Code 07-08.py\n",
    "#Dictionary\n",
    "\n",
    "singer = {}\n",
    "\n",
    "singer['이름'] = '트와이스'\n",
    "singer['구성원'] = 9\n",
    "singer['데뷔'] = '서바이벌 식스틴'\n",
    "singer['대표곡'] = 'SIGNAL'\n",
    "\n",
    "for k in singer.keys() :\n",
    "    print('%s -> %s' % (k, singer[k]))"
   ]
  },
  {
   "cell_type": "code",
   "execution_count": 18,
   "id": "6dc69cac",
   "metadata": {},
   "outputs": [
    {
     "name": "stdout",
     "output_type": "stream",
     "text": [
      "정렬 전 데이터 : 0x2a3a 0x868c 0x4d54 0x45b8 0xe53e 0xedbf 0x12ca8 0x15973 0xa26a 0x1541b \n",
      "정렬 후 데이터 : 0x2a3a 0x45b8 0x4d54 0x868c 0xa26a 0xe53e 0xedbf 0x12ca8 0x1541b 0x15973 "
     ]
    }
   ],
   "source": [
    "#16진수 정렬하기\n",
    "\n",
    "import random\n",
    "\n",
    "data = []\n",
    "i, k = 0, 0\n",
    "\n",
    "if __name__ == \"__main__\" :\n",
    "    for i in range(0, 10) :\n",
    "        tmp = hex(random.randrange(0, 100000))\n",
    "        data.append(tmp)\n",
    "        \n",
    "    print('정렬 전 데이터 : ', end = '')\n",
    "    [print(num, end=' ') for num in data]\n",
    "        \n",
    "    for i in range(0, len(data)-1) :\n",
    "        for k in range(i+1, len(data)) :\n",
    "            if int(data[i], 16) > int(data[k], 16) :\n",
    "                tmp = data[i]\n",
    "                data[i] = data[k]\n",
    "                data[k] = tmp\n",
    "                    \n",
    "    print('\\n정렬 후 데이터 : ', end = '')\n",
    "    [print(num, end=' ') for num in data]"
   ]
  },
  {
   "cell_type": "code",
   "execution_count": 22,
   "id": "8e6ad69d",
   "metadata": {},
   "outputs": [
    {
     "name": "stdout",
     "output_type": "stream",
     "text": [
      "기차 수송량 목록 ==> [('토마스', 5), ('헨리', 8), ('에드워드', 9), ('에밀리', 5), ('토마스', 4), ('헨리', 7), ('토마스', 3), ('에밀리', 8), ('퍼시', 5), ('고든', 13)]\n",
      "------------------\n",
      "기수\t총 수송량\t순위\n",
      "------------------\n",
      "헨리 \t 15 \t 1\n",
      "에밀리 \t 13 \t 2\n",
      "고든 \t 13 \t 2\n",
      "토마스 \t 12 \t 4\n",
      "에드워드 \t 9 \t 5\n",
      "퍼시 \t 5 \t 6\n"
     ]
    }
   ],
   "source": [
    "#기차 수송량에 따라 순위 매기기\n",
    "\n",
    "import operator\n",
    "\n",
    "trainTupleList = [('토마스', 5), ('헨리', 8), ('에드워드', 9), ('에밀리', 5),\n",
    "                  ('토마스', 4), ('헨리', 7), ('토마스', 3), ('에밀리', 8),\n",
    "                  ('퍼시', 5), ('고든', 13)]\n",
    "trainDic, trainList = {}, []\n",
    "tmpTup = None\n",
    "totalRank, currentRank = 1, 1\n",
    "\n",
    "if __name__ == \"__main__\" :\n",
    "    for tmpTup in trainTupleList :\n",
    "        tName = tmpTup[0]\n",
    "        tWeight = tmpTup[1]\n",
    "        if tName in trainDic :\n",
    "            trainDic[tName] += tWeight\n",
    "        else :\n",
    "            trainDic[tName] = tWeight\n",
    "    \n",
    "    print('기차 수송량 목록 ==>', trainTupleList)\n",
    "    print('------------------')\n",
    "    trainList = sorted(trainDic.items(), key = operator.itemgetter(1), reverse = True)\n",
    "    \n",
    "    print('기수\\t총 수송량\\t순위')\n",
    "    print('------------------')\n",
    "    print(trainList[0][0], '\\t', trainList[0][1], '\\t', currentRank)\n",
    "    for i in range(1, len(trainList)) :\n",
    "        totalRank += 1\n",
    "        if trainList[i][1] == trainList[i-1][1] :\n",
    "            pass\n",
    "        else :\n",
    "            currentRank = totalRank\n",
    "        print(trainList[i][0], '\\t', trainList[i][1], '\\t', currentRank)"
   ]
  }
 ],
 "metadata": {
  "kernelspec": {
   "display_name": "Python 3 (ipykernel)",
   "language": "python",
   "name": "python3"
  },
  "language_info": {
   "codemirror_mode": {
    "name": "ipython",
    "version": 3
   },
   "file_extension": ".py",
   "mimetype": "text/x-python",
   "name": "python",
   "nbconvert_exporter": "python",
   "pygments_lexer": "ipython3",
   "version": "3.9.7"
  }
 },
 "nbformat": 4,
 "nbformat_minor": 5
}
